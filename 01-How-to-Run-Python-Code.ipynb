{
 "cells": [
  {
   "cell_type": "markdown",
   "metadata": {
    "deletable": true,
    "editable": true
   },
   "source": [
    "*이 노트북은 제이크 반더플라스(Jake VanderPlas)의 [A Whirlwind Tour of Python](http://www.oreilly.com/programming/free/a-whirlwind-tour-of-python.csp)(OReilly Media, 2016)에서 가져온 것입니다. 이 내용은 [CC0](https://github.com/jakevdp/WhirlwindTourOfPython/blob/master/LICENSE) 라이센스를 따릅니다. 전체 노트북의 목록은 https://github.com/jakevdp/WhirlwindTourOfPython 에서 볼 수 있습니다. 번역된 노트북의 목록은 https://github.com/rickiepark/WhirlwindTourOfPython 에서 볼 수 있습니다.*\n",
    "\n",
    "*This notebook comes from [A Whirlwind Tour of Python](http://www.oreilly.com/programming/free/a-whirlwind-tour-of-python.csp) by Jake VanderPlas (OReilly Media, 2016). This content is licensed [CC0](https://github.com/jakevdp/WhirlwindTourOfPython/blob/master/LICENSE). The full notebook listing is available at https://github.com/jakevdp/WhirlwindTourOfPython.*"
   ]
  },
  {
   "cell_type": "markdown",
   "metadata": {
    "deletable": true,
    "editable": true
   },
   "source": [
    "< [1. 소개](00-Introduction.ipynb) | [목차](Index.ipynb) | [파이썬 문법 빠르게 훑어 보기](02-Basic-Python-Syntax.ipynb) >"
   ]
  },
  {
   "cell_type": "markdown",
   "metadata": {
    "deletable": true,
    "editable": true
   },
   "source": [
    "# 파이썬 코드를 실행하는 법\n",
    "# How to Run Python Code"
   ]
  },
  {
   "cell_type": "markdown",
   "metadata": {
    "deletable": true,
    "editable": true
   },
   "source": [
    "파이썬은 유연한 언어입니다. 작업에 따라 여러가지 사용 방법이 있습니다. 파이선이 다른 프로그래밍 언어와 구별되는 한가지는 *컴파일*이 아니고 *대화식*이라는 점입니다.\n",
    "이 말은 한 줄씩 실행된다는 뜻입니다. 포트란, C, 자바같은 컴파일 언어에서는 지원되지 않는 대화식 프로그래밍이 가능합니다. 이 절에서는 파이썬 코드를 실행하는 대표적인 방법을 설명하겠습니다: *파이썬 인터프리터*, *IPython 인터프리터*, *자체 스크립트* 그리고 *주피터 노트북*\n",
    "\n",
    "Python is a flexible language, and there are several ways to use it depending on your particular task.\n",
    "One thing that distinguishes Python from other programming languages is that it is *interpreted* rather than *compiled*.\n",
    "This means that it is executed line by line, which allows programming to be interactive in a way that is not directly possible with compiled languages like Fortran, C, or Java. This section will describe four primary ways you can run Python code: the *Python interpreter*, the *IPython interpreter*, via *Self-contained Scripts*, or in the *Jupyter notebook*."
   ]
  },
  {
   "cell_type": "markdown",
   "metadata": {
    "deletable": true,
    "editable": true
   },
   "source": [
    "### 파이썬 인터프리터\n",
    "### The Python Interpreter\n",
    "\n",
    "파이썬 코드를 실행하는 가장 기본적인 방법은 *파이썬 인터프리터* 안에서 한 줄씩 실행하는 것입니다.\n",
    "파이썬 인터프리터를 사용하려면 파이썬을 설치하고(이전 섹션을 참고하세요) 명령 프롬프트에서 ``python``이라고 입력하면 됩니다(macOS와 유닉스/리눅스의 터미널이나 윈도우즈의 명령 프롬프트 애플리케이션을 사용하세요):\n",
    "\n",
    "The most basic way to execute Python code is line by line within the *Python interpreter*.\n",
    "The Python interpreter can be started by installing the Python language (see the previous section) and typing ``python`` at the command prompt (look for the Terminal on Mac OS X and Unix/Linux systems, or the Command Prompt application in Windows):\n",
    "```\n",
    "$ python\n",
    "Python 3.5.1 |Continuum Analytics, Inc.| (default, Dec  7 2015, 11:24:55)\n",
    "Type \"help\", \"copyright\", \"credits\" or \"license\" for more information.\n",
    ">>>\n",
    "```\n",
    "인터프리터가 실행되면 코드를 입력하고 실행시킬 수 있습니다.\n",
    "다음 코드에서 인터프리터에서 간단한 계산을 하고 변수에 값을 할당해 보겠습니다.\n",
    "\n",
    "With the interpreter running, you can begin to type and execute code snippets.\n",
    "Here we'll use the interpreter as a simple calculator, performing calculations and assigning values to variables:\n",
    "``` python\n",
    ">>> 1 + 1\n",
    "2\n",
    ">>> x = 5\n",
    ">>> x * 3\n",
    "15\n",
    "```\n",
    "인터프리터는 작은 양의 파이썬 코드를 테스트하고 간단한 명령들을 실험해 보기에 아주 편리합니다.\n",
    "\n",
    "The interpreter makes it very convenient to try out small snippets of Python code and to experiment with short sequences of operations."
   ]
  },
  {
   "cell_type": "markdown",
   "metadata": {
    "deletable": true,
    "editable": true
   },
   "source": [
    "### IPython 인터프리터\n",
    "### The IPython interpreter\n",
    "\n",
    "기본 파이썬 인터프리터로 어느 정도 사용하다 보면 완전한 기능을 갖춘 대화식 개발 환경에 필요한 기능들이 많이 부족하다는 것을 느낄 것입니다.\n",
    "또 다른 인터프리터로 *IPython*(Iteractive Python의 약자)이 아나콘다 배포판에 포함되어 있고 기본 파이썬 인터프리터에 비해 편리한 기능을 포함하고 있습니다.\n",
    "명령 프롬프트에서 ``ipython``이라고 입력해서 시작합니다:\n",
    "\n",
    "If you spend much time with the basic Python interpreter, you'll find that it lacks many of the features of a full-fledged interactive development environment.\n",
    "An alternative interpreter called *IPython* (for Interactive Python) is bundled with the Anaconda distribution, and includes a host of convenient enhancements to the basic Python interpreter.\n",
    "It can be started by typing ``ipython`` at the command prompt:\n",
    "```\n",
    "$ ipython\n",
    "Python 3.5.1 |Continuum Analytics, Inc.| (default, Dec  7 2015, 11:24:55) \n",
    "Type \"copyright\", \"credits\" or \"license\" for more information.\n",
    "\n",
    "IPython 4.0.0 -- An enhanced Interactive Python.\n",
    "?         -> Introduction and overview of IPython's features.\n",
    "%quickref -> Quick reference.\n",
    "help      -> Python's own help system.\n",
    "object?   -> Details about 'object', use 'object??' for extra details.\n",
    "\n",
    "In [1]: \n",
    "```\n",
    "파이썬 인터프리터와 IPython 인터프리터간의 주요한 외관상의 차이점은 명령 프롬프트입니다. 파이썬은 기본적으로 ``>>>``이고 반면에 IPython은 숫자가 부여된 프롬프트입니다(가령 ``In [1]:``).\n",
    "어쨋든 이전과 동일하게 한 줄씩 코드를 실행시킬 수 있습니다:\n",
    "\n",
    "The main aesthetic difference between the Python interpreter and the enhanced IPython interpreter lies in the command prompt: Python uses ``>>>`` by default, while IPython uses numbered commands (e.g. ``In [1]:``).\n",
    "Regardless, we can execute code line by line just as we did before:\n",
    "``` ipython\n",
    "In [1]: 1 + 1\n",
    "Out[1]: 2\n",
    "\n",
    "In [2]: x = 5\n",
    "\n",
    "In [3]: x * 3\n",
    "Out[3]: 15\n",
    "```\n",
    "입력에 숫자가 부여된 것처럼 각 명령의 출력에도 숫자가 붙어 있습니다.\n",
    "IPython은 굉장히 많은 편리한 기능을 가지고 있습니다. 이와 관련된 추천 자료는 [추천 자료](16-Further-Resources.ipynb)를 참고하세요.\n",
    "\n",
    "Note that just as the input is numbered, the output of each command is numbered as well.\n",
    "IPython makes available a wide array of useful features; for some suggestions on where to read more, see [Resources for Further Learning](16-Further-Resources.ipynb)."
   ]
  },
  {
   "cell_type": "markdown",
   "metadata": {
    "deletable": true,
    "editable": true
   },
   "source": [
    "### 자체 스크립트\n",
    "### Self-contained Python scripts\n",
    "\n",
    "파이썬 코드를 한 줄씩 실행하는 것이 유용한 경우도 있지만 더 복잡한 프로그램들은 파일로 저장해서 한 번에 실행하는 것이 더 편리합니다.\n",
    "관습적으로 파이썬 스크립트는 *.py* 확장자를 가진 파일로 저장합니다.\n",
    "예를 들어서 다음 코드를 담은 *test.py*란 스크립트를 만들어 보겠습니다:\n",
    "\n",
    "Running Python snippets line by line is useful in some cases, but for more complicated programs it is more convenient to save code to file, and execute it all at once.\n",
    "By convention, Python scripts are saved in files with a *.py* extension.\n",
    "For example, let's create a script called *test.py* which contains the following:\n",
    "``` python\n",
    "# file: test.py\n",
    "print(\"Running test.py\")\n",
    "x = 5\n",
    "print(\"Result is\", 3 * x)\n",
    "```\n",
    "이 파일을 실행하려면 현재 디렉토리에서 명령 프롬프트에 ``python`` *``filename``*을 입력하면 됩니다:\n",
    "To run this file, we make sure it is in the current directory and type ``python`` *``filename``* at the command prompt:\n",
    "```\n",
    "$ python test.py\n",
    "Running test.py\n",
    "Result is 15\n",
    "```\n",
    "복잡한 프로그램일 경우 이와 같은 자체 스크립트는 필수적입니다.\n",
    "\n",
    "For more complicated programs, creating self-contained scripts like this one is a must."
   ]
  },
  {
   "cell_type": "markdown",
   "metadata": {
    "deletable": true,
    "editable": true
   },
   "source": [
    "### 주피터 노트북\n",
    "### The Jupyter notebook\n",
    "\n",
    "대화식 터미널과 자체 스크립트의 하이브리드는 *주피터 노트북*입니다. 이 문서의 포맷은 실행 코드, 서식있는 텍스트, 그래프와 대화식 기능까지 하나의 문서에 결합되어 있습니다.\n",
    "노트북이 파이썬만의 포맷으로 시작되었지만 많은 프로그래밍 언어와 호환되도록 확장해왔고 [*주피터 프로젝트*](https://jupyter.org/)의 핵심 부분이 되었습니다.\n",
    "노트북이 개발 환경으로서 뿐만 아니라 풍부한 컴퓨팅 자원과 데이터 주도적인 환경에서 코드, 그림, 데이터, 텍스트가 합쳐진 작업물을 공유하는 도구로도 유용합니다.\n",
    "\n",
    "A useful hybrid of the interactive terminal and the self-contained script is the *Jupyter notebook*, a document format that allows executable code, formatted text, graphics, and even interactive features to be combined into a single document.\n",
    "Though the notebook began as a Python-only format, it has since been made compatible with a large number of programming languages, and is now an essential part of the [*Jupyter Project*](https://jupyter.org/).\n",
    "The notebook is useful both as a development environment, and as a means of sharing work via rich computational and data-driven narratives that mix together code, figures, data, and text."
   ]
  },
  {
   "cell_type": "markdown",
   "metadata": {
    "deletable": true,
    "editable": true
   },
   "source": [
    "< [1. 소개](00-Introduction.ipynb) | [목차](Index.ipynb) | [파이썬 문법 빠르게 훑어 보기](02-Basic-Python-Syntax.ipynb) >"
   ]
  }
 ],
 "metadata": {
  "kernelspec": {
   "display_name": "Python [conda env:python36]",
   "language": "python",
   "name": "conda-env-python36-py"
  },
  "language_info": {
   "codemirror_mode": {
    "name": "ipython",
    "version": 3
   },
   "file_extension": ".py",
   "mimetype": "text/x-python",
   "name": "python",
   "nbconvert_exporter": "python",
   "pygments_lexer": "ipython3",
   "version": "3.6.1"
  }
 },
 "nbformat": 4,
 "nbformat_minor": 0
}
