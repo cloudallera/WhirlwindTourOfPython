{
 "cells": [
  {
   "cell_type": "markdown",
   "metadata": {},
   "source": [
    "*이 노트북은 제이크 반더플라스(Jake VanderPlas)의 [A Whirlwind Tour of Python](http://www.oreilly.com/programming/free/a-whirlwind-tour-of-python.csp)(OReilly Media, 2016)에서 가져온 것입니다. 이 내용은 [CC0](https://github.com/jakevdp/WhirlwindTourOfPython/blob/master/LICENSE) 라이센스를 따릅니다. 전체 노트북의 목록은 https://github.com/jakevdp/WhirlwindTourOfPython 에서 볼 수 있습니다. 번역된 노트북의 목록은 https://github.com/rickiepark/WhirlwindTourOfPython 에서 볼 수 있습니다.*\n",
    "\n",
    "*This notebook comes from [A Whirlwind Tour of Python](http://www.oreilly.com/programming/free/a-whirlwind-tour-of-python.csp) by Jake VanderPlas (OReilly Media, 2016). This content is licensed [CC0](https://github.com/jakevdp/WhirlwindTourOfPython/blob/master/LICENSE). The full notebook listing is available at https://github.com/jakevdp/WhirlwindTourOfPython.*"
   ]
  },
  {
   "cell_type": "markdown",
   "metadata": {},
   "source": [
    "| [목차](Index.ipynb) | [파이썬 코드를 실행하는 법](01-How-to-Run-Python-Code.ipynb) >"
   ]
  },
  {
   "cell_type": "markdown",
   "metadata": {},
   "source": [
    "# 1. 소개"
   ]
  },
  {
   "cell_type": "markdown",
   "metadata": {},
   "source": [
    "교육용과 스크립팅 언어로서 1980년대 후반에 고안된 파이썬은 이제 학계와 산업계에 걸쳐 많은 프로그래머, 엔지니어, 연구자, 데이터 과학자들에게 필수적인 도구가 되었습니다. 데이터 위주 과학 분야를 위한 무료 공개 툴을 만들고 돕는 데 열정적인 천문학자로서 저는 파이썬이 매일 매일 부딪히는 여러 종류의 문제들을 해결하는 데 거의 완벽한 도구라는 것을 알게 되었습니다. 그것들은 대규모 천문학 데이터셋에서 의미를 추출하거나, 웹에서 데이터를 스크래핑하고 조작하거나 또는 매일하는 연구 작업들을 자동화하는 것들입니다.\n",
    "\n",
    "Conceived in the late 1980s as a teaching and scripting language, Python has since become an essential tool for many programmers, engineers, researchers, and data scientists across academia and industry.\n",
    "As an astronomer focused on building and promoting the free open tools for data-intensive science, I've found Python to be a near-perfect fit for the types of problems I face day to day, whether it's extracting meaning from large astronomical datasets, scraping and munging data sources from the Web, or automating day-to-day research tasks.\n",
    "\n",
    "파이썬의 매력은 특정 영역에 맞는 많은 도구들이 있는 생태계로 인한 편리함은 물론 파이썬 그 자체의 간단함과 아름다움에 있습니다. 예를 들어, 과학 컴퓨팅과 데이터 과학 분야에서 대부분의 파이썬 코드는 안정적이고 유용한 다음과 같은 패키지들 위에 구축되어 있습니다:\n",
    "\n",
    "The appeal of Python is in its simplicity and beauty, as well as the convenience of the large ecosystem of domain-specific tools that have been built on top of it.\n",
    "For example, most of the Python code in scientific computing and data science is built around a group of mature and useful packages:\n",
    "\n",
    "- [NumPy](http://numpy.org)는 다차원 데이터 배열을 위한 효율적인 저장 공간과 연산을 제공합니다. provides efficient storage and computation for multi-dimensional data arrays.\n",
    "- [SciPy](http://scipy.org)는 적분과 보간 같은 방대한 양의 수학적 도구를 포함합니다. contains a wide array of numerical tools such as numerical integration and interpolation.\n",
    "- [Pandas](http://pandas.pydata.org)는 데이터의 조작, 필터링, 그룹핑, 변환을 위한 강력한 메서드를 가진 DataFrame 객체를 제고합니다. provides a DataFrame object along with a powerful set of methods to manipulate, filter, group, and transform data.\n",
    "- [Matplotlib](http://matplotlib.org)은 출판 퀄리티의 그래프와 이미지를 만들기 위한 유용한 인터페이스를 제공합니다. provides a useful interface for creation of publication-quality plots and figures.\n",
    "- [Scikit-Learn](http://scikit-learn.org)은 널리 사용하는 머신러닝 알고리즘을 데이터에 적용하기 위한 일관된 인터페이스를 가진 툴킷을 제공합니다. provides a uniform toolkit for applying common machine learning algorithms to data.\n",
    "- [IPython/Jupyter](http://jupyter.org)는 인터랙티브하고 실행가능한 문서를 생성하는 기능은 물론 탐색적 분석에 유용한 강화된 터미널과 인터랙티브한 노트북 환경을 제공합니다. 예를 들어, 이 리포트 원고는 모두 주피터 노트북으로 작성되었습니다. provides an enhanced terminal and an interactive notebook environment that is useful for exploratory analysis, as well as creation of interactive, executable documents. For example, the manuscript for this report was composed entirely in Jupyter notebooks.\n",
    "\n",
    "이들과 동반되는 수 많은 다른 도구와 패키지들 모두 중요합니다. 여러분이 처리해야 할 과학적 또는 데이터 분석적 작업이 있다면 아마도 누군가가 패키지를 만들어 놓았을 가능성이 높습니다.\n",
    "\n",
    "No less important are the numerous other tools and packages which accompany these: if there is a scientific or data analysis task you want to perform, chances are someone has written a package that will do it for you.\n",
    "\n",
    "그러나 이런 데이터 과학 생태계의 파워를 이용하려면 먼저 파이썬 언어 자체에 친숙해져야 합니다. MATLAB, IDL, R, Java, C++ 같은 언어를 (가끔 매우 깊게) 알고 있는 학생이나 동료들이 아주 기초가 아니라 그들의 컴퓨팅 언어에 대한 지식이 감안된 파이썬에 대한 간단하지만 폭 넓은 소개를 담은 자료를 찾는 것을 자주 목격합니다. 이 리포트가 바로 그 부분을 채우려고 합니다.\n",
    "\n",
    "To tap into the power of this data science ecosystem, however, first requires familiarity with the Python language itself.\n",
    "I often encounter students and colleagues who have (sometimes extensive) backgrounds in computing in some language – MATLAB, IDL, R, Java, C++, etc. – and are looking for a brief but comprehensive tour of the Python language that respects their level of knowledge rather than starting from ground zero.\n",
    "This report seeks to fill that niche.\n",
    "\n",
    "그렇게 이 리포트는 프로그래밍에 대한 폭 넓은 소개나 파이썬 언어의 완벽한 소개를 목적으로 하지 않습니다. 그런 것을 찾는다면 [Resources for Learning](16-Further-Resources.ipynb)에 나열된 추천 목록을 참고하세요. 대신 여기서는 파이썬의 핵심적인 문법과 의미, 내장 데이터 타입과 구조, 함수 정의, 제어 구문 그외 언어의 여러 측면을 빠르게 둘러 보겠습니다. 나의 목적은 독자들이 조금 전 설명한 데이터 과학의 요소들을 탐색하기 위한 견고한 기초를 갖추게 하는 것입니다.\n",
    "\n",
    "As such, this report in no way aims to be a comprehensive introduction to programming, or a full introduction to the Python language itself; if that is what you are looking for, you might check out one of the recommended references listed in [Resources for Learning](16-Further-Resources.ipynb).\n",
    "Instead, this will provide a whirlwind tour of some of Python's essential syntax and semantics, built-in data types and structures, function definitions, control flow statements, and other aspects of the language.\n",
    "My aim is that readers will walk away with a solid foundation from which to explore the data science stack just outlined."
   ]
  },
  {
   "cell_type": "markdown",
   "metadata": {},
   "source": [
    "## 예제 코드 사용하기\n",
    "## Using Code Examples\n",
    "\n",
    "부속물(예제 코드, 연습문제 등)은 https://github.com/rickiepark/WhirlwindTourOfPython/ 에서 다운로드 받을 수 있습니다. 이 책은 문제를 해결하도록 도와줄 것입니다. 일반적으로 책과 함께 제공되는 예제 코드는 여러분의 프로그램이나 문서에 사용할 수 있습니다. 많은 양의 코드를 재사용하는 경우가 아니면 허락을 받을 필요가 없습니다. 예를 들어, 이 책에서 몇개의 코드 블럭을 사용하는 프로그램을 만드는 것은 허락이 필요 없습니다. 오라일리 책의 예제 CD-ROM을 팔거나 배포하는 것은 허락이 필요합니다. 이 책을 인용하면서 질문에 답을 하거나 예제 코드를 인용하는 것은 허락을 받을 필요가 없습니다. 여러분의 제품이나 문서에 이 책에 있는 예제 코드를 굉장히 많이 사용하려면 허락이 필요합니다.\n",
    "\n",
    "Supplemental material (code examples, exercises, etc.) is available for download at https://github.com/jakevdp/WhirlwindTourOfPython/.\n",
    "This book is here to help you get your job done.\n",
    "In general, if example code is offered with this book, you may use it in your programs and documentation.\n",
    "You do not need to contact us for permission unless you’re reproducing a significant portion of the code.\n",
    "For example, writing a program that uses several chunks of code from this book does not require permission.\n",
    "Selling or distributing a CD-ROM of examples from O’Reilly books does require permission.\n",
    "Answering a question by citing this book and quoting example code does not require permission.\n",
    "Incorporating a significant amount of example code from this book into your product’s documentation does require permission.\n",
    "\n",
    "인용은 환영합니다만 필수는 아닙니다. 인용은 보통 제목, 저자, 출판사 그리고 ISBN을 포함합니다. 예시: \"A Whirlwind Tour of Python by Jake VanderPlas (O’Reilly). Copyright 2016 O’Reilly Media, Inc., 978-1-491-96465-1.\"\n",
    "\n",
    "We appreciate, but do not require, attribution.\n",
    "An attribution usually includes the title, author, publisher, and ISBN.\n",
    "For example: \"A Whirlwind Tour of Python by Jake VanderPlas (O’Reilly). Copyright 2016 O’Reilly Media, Inc., 978-1-491-96465-1.\"\n",
    "\n",
    "예제 코드를 사용하는데 공정한 사용 범위를 넘어서거나 위에서 언급한 허락이 필요한 경우라면 permissions@oreilly.com 로 언제든지 연락주세요.\n",
    "\n",
    "If you feel your use of code examples falls outside fair use or the per‐ mission given above, feel free to contact us at permissions@oreilly.com."
   ]
  },
  {
   "cell_type": "markdown",
   "metadata": {},
   "source": [
    "## 설치와 실용적 고려사항\n",
    "## Installation and Practical Considerations\n",
    "\n",
    "파이썬과 과학 컴퓨팅을 위한 라이브러리 묶음을 설치하는 것은 윈도우즈, 리눅스, 맥에 상관없이 직관적입니다. 이 섹션에서 컴퓨터 셋팅할 때 고려해야할 몇 가지 내용을 소개합니다.\n",
    "\n",
    "Installing Python and the suite of libraries that enable scientific computing is straightforward whether you use Windows, Linux, or Mac OS X. This section will outline some of the considerations when setting up your computer."
   ]
  },
  {
   "cell_type": "markdown",
   "metadata": {},
   "source": [
    "### 파이썬2 vs 파이썬3\n",
    "### Python 2 vs Python 3\n",
    "\n",
    "이 리포트는 파이썬 *2.x* 시리즈와는 호환되지 않는 개선된 파이썬3의 문법을 사용합니다. 파이썬 3.0이 2008년에 처음 출시되었지만 비교적 느리게 적용되어 왔습니다. 특히 과학과 웹 개발 커뮤니티가 그렇습니다. 이런 이유는 주로 필수적인 패키지와 툴킷들이 새로운 언어의 내부 구조와 호환되도록 하는데 시간이 걸리기 때문이었습니다. 그러나 2014년 초부터 데이터 과학 생태계의 중요한 대부분의 패키지들의 안정 버전이 파이썬 2와 3에서 모두 완전히 호환되었습니다. 그러므로 이 책은 새로운 파이썬 3의 문법을 사용합니다. 그렇더라도 이 책에 있는 코드의 많은 부분은 여전히 파이썬2에서 수정없이 작동시킬 수 있습니다. 파이썬2와 호환되지 않는 문법이 있는 경우 가능한 명확하게 언급하도록 노력하겠습니다.\n",
    "\n",
    "This report uses the syntax of Python 3, which contains language enhancements that are not compatible with the *2.x* series of Python.\n",
    "Though Python 3.0 was first released in 2008, adoption has been relatively slow, particularly in the scientific and web development communities.\n",
    "This is primarily because it took some time for many of the essential packages and toolkits to be made compatible with the new language internals.\n",
    "Since early 2014, however, stable releases of the most important tools in the data science ecosystem have been fully-compatible with both Python 2 and 3, and so this book will use the newer Python 3 syntax.\n",
    "Even though that is the case, the vast majority of code snippets in this book will also work without modification in Python 2: in cases where a Py2-incompatible syntax is used, I will make every effort to note it explicitly."
   ]
  },
  {
   "cell_type": "markdown",
   "metadata": {},
   "source": [
    "### conda 설치\n",
    "### Installation with conda\n",
    "\n",
    "파이썬을 설치하는 방법이 여러가지가 있지만 제가 추천하는 한 가지는 - 특히 위에서 언급한 데이터 과학 도구들을 사용하려고 할 때 - 크로스 플랫폼 아나콘다(Anaconda) 배포판입니다. 아나콘다 배포판에는 두 가지 종류가 있습니다:\n",
    "\n",
    "Though there are various ways to install Python, the one I would suggest – particularly if you wish to eventually use the data science tools mentioned above – is via the cross-platform Anaconda distribution.\n",
    "There are two flavors of the Anaconda distribution:\n",
    "\n",
    "- [Miniconda](http://conda.pydata.org/miniconda.html)는 파이썬 인터프리터와 ``conda``로 불리는 명령행 도구를 함께 제공합니다. ``conda``는 리눅스 사용자에게 친숙한 ``apt``나 ``yum``과 유사한 크로스 플랫폼 파이썬 패키지 매니저입니다. gives you Python interpreter itself, along with a command-line tool called ``conda`` which operates as a cross-platform package manager geared toward Python packages, similar in spirit to the ``apt`` or ``yum`` tools that Linux users might be familiar with.\n",
    "- [Anaconda](https://www.continuum.io/downloads)는 파이썬과 ``conda``를 모두 포함하고 있으고 과학 컴퓨팅을 위한 패키지들을 번들로 포함하고 있습니다. includes both Python and ``conda``, and additionally bundles a suite of other pre-installed packages geared toward scientific computing.\n",
    "\n",
    "아나콘다에 포함된 어떤 패키지도 미니콘다에서 수동으로 설치할 수 있으므로 미니콘다로 시작할 것을 추천합니다.\n",
    "\n",
    "Any of the packages included with Anaconda can also be installed manually on top of Miniconda; for this reason I suggest starting with Miniconda.\n",
    "\n",
    "시작하려면 미니콘다 패키지를 다운받아 설치합니다(파이썬3 버전을 선택했는지 확인하세요). 그리고 나서 IPython 노트북 패키지를 설치합니다:\n",
    "\n",
    "To get started, download and install the Miniconda package – make sure to choose a version with Python 3 – and then install the IPython notebook package:\n",
    "```\n",
    "[~]$ conda install ipython-notebook\n",
    "```\n",
    "콘다 환경을 만들고 사용하는 등의 ``conda``에 대한 더 자세한 설명은 앞의 미니콘다 패키지 문서 링크를 참고하세요.\n",
    "\n",
    "For more information on ``conda``, including information about creating and using conda environments, refer to the Miniconda package documentation linked at the above page."
   ]
  },
  {
   "cell_type": "markdown",
   "metadata": {},
   "source": [
    "## 파이썬의 선\n",
    "## The Zen of Python\n",
    "\n",
    "파이썬 매니아들은 파이썬이 얼마나 직관적이고 아름답고 재미있는지를 자주 언급합니다. 저도 이에 동의하지만 아름다움, 직관, 재미는 익숙함과 함께 동반되는 경우가 많다는 것을 알고 있고 그래서 다른 언어와 친숙한 사람들에게 이런 감정은 조금 잘난척하는 것으로 보일 수 있습니다. 그럼에도 불구하고 여러분이 파이썬을 접할 기회가 있다면 아마 이런 느낌을 받게될 것이라고 생각합니다. 그리고 많은 파이썬의 코딩 관례가 생겨난 이 프로그래밍 철학을 정말 알고 싶다면 파이썬 인터프리터에 숨은 작은 기능을 참고하세요. 눈을 감고 몇 분간 명상을 하고나서 ``import this``를 입력하세요:\n",
    "\n",
    "Python aficionados are often quick to point out how \"intuitive\", \"beautiful\", or \"fun\" Python is.\n",
    "While I tend to agree, I also recognize that beauty, intuition, and fun often go hand in hand with familiarity, and so for those familiar with other languages such florid sentiments can come across as a bit smug.\n",
    "Nevertheless, I hope that if you give Python a chance, you'll see where such impressions might come from.\n",
    "And if you *really* want to dig into the programming philosophy that drives much of the coding practice of Python power-users, a nice little Easter egg exists in the Python interpreter: simply close your eyes, meditate for a few minutes, and ``import this``:"
   ]
  },
  {
   "cell_type": "code",
   "execution_count": 1,
   "metadata": {},
   "outputs": [
    {
     "name": "stdout",
     "output_type": "stream",
     "text": [
      "The Zen of Python, by Tim Peters\n",
      "\n",
      "Beautiful is better than ugly.\n",
      "Explicit is better than implicit.\n",
      "Simple is better than complex.\n",
      "Complex is better than complicated.\n",
      "Flat is better than nested.\n",
      "Sparse is better than dense.\n",
      "Readability counts.\n",
      "Special cases aren't special enough to break the rules.\n",
      "Although practicality beats purity.\n",
      "Errors should never pass silently.\n",
      "Unless explicitly silenced.\n",
      "In the face of ambiguity, refuse the temptation to guess.\n",
      "There should be one-- and preferably only one --obvious way to do it.\n",
      "Although that way may not be obvious at first unless you're Dutch.\n",
      "Now is better than never.\n",
      "Although never is often better than *right* now.\n",
      "If the implementation is hard to explain, it's a bad idea.\n",
      "If the implementation is easy to explain, it may be a good idea.\n",
      "Namespaces are one honking great idea -- let's do more of those!\n"
     ]
    }
   ],
   "source": [
    "import this"
   ]
  },
  {
   "cell_type": "markdown",
   "metadata": {},
   "source": [
    "- 아름다운 것이 보기 싫은 것보다 좋다.\n",
    "- 명시적인 것이 암묵적인 것보다 좋다.\n",
    "- 간단한 것이 복합적인 것보다 좋다.\n",
    "- 복합적인 것이 복잡한 것보다 좋다.\n",
    "- 수평한 것이 중첩된 것보다 좋다.\n",
    "- 희소한 것이 밀집된 것보다 좋다.\n",
    "- 가독성이 중요하다.\n",
    "- 규칙을 무시할 만큼 특별한 경우는 없다.\n",
    "- 하지만 실용성이 순수함보다 우선한다.\n",
    "- 에러가 조용히 넘어가서는 안된다.\n",
    "- 명시적으로 조용히 만든 경우는 제외한다.\n",
    "- 모호함을 만났을 때 추측의 유혹을 거부해라.\n",
    "- 하나의 -- 가급적 딱 하나의 -- 확실한 방법이 있어야 한다.\n",
    "- 하지만 네덜란드 사람(귀도)이 아니라면 처음에는 그 방법이 명확하게 보이지 않을 수 있다.\n",
    "- 지금 하는 것이 안하는 것보다 좋다.\n",
    "- 하지만 안하는 것이 이따금 지금 당장 하는 것보다 좋을 때가 있다.\n",
    "- 설명하기 어려운 구현이라면 좋은 아이디어가 아니다.\n",
    "- 설명하기 쉬운 구현이라면 좋은 아이디어다.\n",
    "- 네임스페이스는 아주 좋으므로 더 많이 사용하자!"
   ]
  },
  {
   "cell_type": "markdown",
   "metadata": {},
   "source": [
    "이런 생각으로 파이선 언어에 대한 여행을 시작해 보겠습니다.\n",
    "\n",
    "With that, let's start our tour of the Python language."
   ]
  },
  {
   "cell_type": "markdown",
   "metadata": {},
   "source": [
    "| [목차](Index.ipynb) | [파이썬 코드를 실행하는 법](01-How-to-Run-Python-Code.ipynb) >"
   ]
  }
 ],
 "metadata": {
  "anaconda-cloud": {},
  "kernelspec": {
   "display_name": "Python 3",
   "language": "python",
   "name": "python3"
  },
  "language_info": {
   "codemirror_mode": {
    "name": "ipython",
    "version": 3
   },
   "file_extension": ".py",
   "mimetype": "text/x-python",
   "name": "python",
   "nbconvert_exporter": "python",
   "pygments_lexer": "ipython3",
   "version": "3.6.1"
  }
 },
 "nbformat": 4,
 "nbformat_minor": 1
}
