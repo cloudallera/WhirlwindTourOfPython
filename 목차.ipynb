{
 "cells": [
  {
   "cell_type": "markdown",
   "metadata": {},
   "source": [
    "# 회오리바람을 탄 파이썬"
   ]
  },
  {
   "cell_type": "markdown",
   "metadata": {},
   "source": [
    "*제이크 반더플라스(Jake VanderPlas)*\n",
    "\n",
    "*번역 및 추가: 박해선(tensorflow.blog)*"
   ]
  },
  {
   "cell_type": "markdown",
   "metadata": {},
   "source": [
    "These are the Jupyter Notebooks behind my O'Reilly report,\n",
    "[*A Whirlwind Tour of Python*](http://www.oreilly.com/programming/free/a-whirlwind-tour-of-python.csp).\n",
    "The full notebook listing is available [on Github](https://github.com/jakevdp/WhirlwindTourOfPython).\n",
    "\n",
    "*A Whirlwind Tour of Python* is a fast-paced introduction to essential\n",
    "components of the Python language for researchers and developers who are\n",
    "already familiar with programming in another language.\n",
    "\n",
    "The material is particularly aimed at those who wish to use Python for data \n",
    "science and/or scientific programming, and in this capacity serves as an\n",
    "introduction to my upcoming book, *The Python Data Science Handbook*.\n",
    "These notebooks are adapted from lectures and workshops I've given on these\n",
    "topics at University of Washington and at various conferences, meetings, and\n",
    "workshops around the world."
   ]
  },
  {
   "cell_type": "markdown",
   "metadata": {},
   "source": [
    "## 목차\n",
    "\n",
    "1. [소개](00-Introduction.ipynb)\n",
    "2. [파이썬 코드를 실행하는 방법](01-파이썬 코드를 실행하는 방법.ipynb)\n",
    "3. [파이썬 문법 빠르게 훑어 보기](02-파이썬 문법 빠르게 훑어 보기.ipynb)\n",
    "4. [변수와 객체](03-변수와 객체.ipynb)\n",
    "5. [연산자](04-연산자.ipynb)\n",
    "6. [간단한 기본 데이터 타입](05-간단한 기본 데이터 타입.ipynb)\n",
    "7. [기본 데이터 구조](06-기본 데이터 구조.ipynb)\n",
    "8. [제어문](07-제어문.ipynb)\n",
    "9. [함수](08-함수.ipynb)\n",
    "10. [에러와 예외처리](09-에러와 예외처리.ipynb)\n",
    "11. [반복자](10-반복자.ipynb)\n",
    "12. [리스트 내포](11-리스트 내포.ipynb)\n",
    "13. [제너레이터](12-제너레이터.ipynb)\n",
    "14. [모듈과 패키지](13-모듈과 패키지.ipynb)\n",
    "15. [문자열과 정규 표현식](14-문자열과 정규 표현식.ipynb)\n",
    "16. [Preview of Data Science Tools](15-Preview-of-Data-Science-Tools.ipynb)\n",
    "17. [Resources for Further Learning](16-Further-Resources.ipynb)\n",
    "18. [Appendix: Code To Reproduce Figures](17-Figures.ipynb)"
   ]
  },
  {
   "cell_type": "markdown",
   "metadata": {},
   "source": [
    "## License\n",
    "\n",
    "This material is released under the \"No Rights Reserved\" [CC0](LICENSE)\n",
    "license, and thus you are free to re-use, modify, build-on, and enhance\n",
    "this material for any purpose.\n",
    "\n",
    "That said, I request (but do not require) that if you use or adapt this material,\n",
    "you include a proper attribution and/or citation; for example\n",
    "\n",
    "> *A Whirlwind Tour of Python* by Jake VanderPlas (O’Reilly). Copyright 2016 O’Reilly Media, Inc., 978-1-491-96465-1\n",
    "\n",
    "Read more about CC0 [here](https://creativecommons.org/share-your-work/public-domain/cc0/)."
   ]
  }
 ],
 "metadata": {
  "anaconda-cloud": {},
  "kernelspec": {
   "display_name": "Python 3",
   "language": "python",
   "name": "python3"
  },
  "language_info": {
   "codemirror_mode": {
    "name": "ipython",
    "version": 3
   },
   "file_extension": ".py",
   "mimetype": "text/x-python",
   "name": "python",
   "nbconvert_exporter": "python",
   "pygments_lexer": "ipython3",
   "version": "3.6.5"
  }
 },
 "nbformat": 4,
 "nbformat_minor": 1
}
